{
 "cells": [
  {
   "cell_type": "code",
   "execution_count": null,
   "id": "de8a6ac8-e067-4ba6-b425-93fd7e926e03",
   "metadata": {},
   "outputs": [],
   "source": [
    "#load these before doing anything else\n",
    "library(tidyverse)\n",
    "library(repr)\n",
    "library(tidymodels)\n",
    "options(repr.matrix.max.rows = 6)\n"
   ]
  },
  {
   "cell_type": "markdown",
   "id": "3d0a51f8-87c6-44f8-8b34-ca83478fcbb5",
   "metadata": {},
   "source": [
    "Title: Clinical Determinants of Heart Disease\n",
    "\n",
    "Introduction:\n",
    "We are using the Heart Disease Dataset from Kaggle (link: https://www.kaggle.com/datasets/ineubytes/heart-disease-dataset)\n",
    "The data set contains 14 columns, which include information of the patients’ age, sex, chest pain, cholesterol levels, and other clinical factors. The last column, target, indicated by values 0, and 1, represents whether the patient has heart defects (0 = does not have heart disease; 1 = have heart disease). The dataset seems to already be in a tidy format.\n",
    "\n",
    "Research question: We are aiming to predict whether an individual has heart disease (ie. the target value)  using 4 predictors, age, serum cholesterol in mg/dl(chol), maximum heart rate achieved(thalach), resting blood pressure (in mm Hg on admission to the hospital)(trestbps). \n",
    "\n",
    "We chose these four predicators because they seem clinically related to the risk of heart disease. Clinical data identifies cholesterol at and above 240 mg/dl to be high. Systolic blood pressure over 140 mmHg and/or diastolic blood pressure over 90 mmHg are considered high blood pressure. It is considered critical if one’s maximum heart rate exceed their age subtracted by 200. These factors have all be proven to increase the risk of heart disease in patients. We are analyzing our data with the help of these clinical standards. \n"
   ]
  },
  {
   "cell_type": "markdown",
   "id": "2c72f8de-22c4-4478-b856-009260fb4d38",
   "metadata": {},
   "source": [
    "Preliminary exploratory data analysis:"
   ]
  },
  {
   "cell_type": "code",
   "execution_count": null,
   "id": "fda615ac-db78-4b51-bd66-a46f4353a4f8",
   "metadata": {},
   "outputs": [],
   "source": [
    "#reading in our data set:\n",
    "heart_data<-read_csv(\"data/heart (1).csv\")\n",
    "\n",
    "heart_data_1<- heart_data|>\n",
    "select(age, trestbps, chol, thalach, target) |>\n",
    "mutate(target=as_factor(target))\n",
    "#splitting it into training and test sets\n",
    "heart_split <- initial_split(heart_data_1, prop = 0.75, strata = target)\n",
    "heart_training<-training(heart_split)\n",
    "heart_testing<- testing(heart_split)\n",
    "heart_training\n",
    "\n"
   ]
  },
  {
   "cell_type": "code",
   "execution_count": null,
   "id": "472cfca9-cb12-422e-9a98-a3688cc371b5",
   "metadata": {},
   "outputs": [],
   "source": [
    "#extra exploratory information\n",
    "mean_data<- heart_data|>\n",
    "    map_df(mean, na.rm=TRUE)\n",
    "\n",
    "mean_data \n"
   ]
  },
  {
   "cell_type": "code",
   "execution_count": null,
   "id": "7220e7eb-afce-4963-b778-fc5a03f0bac2",
   "metadata": {},
   "outputs": [],
   "source": [
    "#Section: summarizing the data into table(s)\n",
    "\n",
    "# Cholesterol (chol column)\n",
    "\n",
    "# target: 0=not diagnosed with heart disease\n",
    "#         1= diagnosed with heart disease\n",
    "\n",
    "# Note: High cholesterol is clinically diagnosed when a patient's cholesterol is equal to or over 240 mg/dl\n",
    "high_chol <- heart_training |>\n",
    "select(chol, target)|>\n",
    "filter(chol >= 240)|>\n",
    "group_by(target)|>\n",
    "summarize(count=n())\n",
    "\n",
    "high_chol\n"
   ]
  },
  {
   "cell_type": "code",
   "execution_count": null,
   "id": "d61aa1e2-d23d-4d91-86cf-30ee08d90f07",
   "metadata": {},
   "outputs": [],
   "source": [
    "#Section: summarizing the data into table(s), part 2\n",
    "#Maximum heart rate (thalach column)\n",
    "normal_max_heart_rate <- heart_training|>\n",
    "mutate(normal_thalach = 220 - age)\n",
    "\n",
    "high_heart_rate <- normal_max_heart_rate|>\n",
    "mutate(diff_thalach= normal_thalach - thalach)|>\n",
    "mutate(diff_thalach_2 = ifelse(diff_thalach >= 0, \"no\", \"yes\"))\n",
    "high_heart_rate\n",
    "\n",
    "#normal max heart rate is calculated using a fixed equation: 220-age\n",
    "#comparing calculated (normal) max heart rate with the measured heart rate(thalach column)\n",
    "#we can quantify whether heart rate is critically high by comparing these two rows.\n",
    "#if the difference between the 2 rows is a negative value then max heart rate is considered high and potentially dangerous.\n"
   ]
  },
  {
   "cell_type": "code",
   "execution_count": null,
   "id": "52ff22d1-b7b7-450d-9f9b-e564cab30abc",
   "metadata": {
    "tags": []
   },
   "outputs": [],
   "source": [
    "#Section: Visualization for Maximum Heart Rate (thalach column)\n",
    "high_heart_plot <- high_heart_rate |>\n",
    "ggplot(aes(x = diff_thalach_2, fill = target)) + \n",
    "geom_bar(stat = \"count\") + \n",
    "labs(x = \"Whether patients have elevated max heart rate\", y = \"Count\", fill= \"Diagnosed with Heart Disease\")+\n",
    "ggtitle(\"Heart Disease in relation to Maximum Heart Rate\") \n",
    "high_heart_plot\n",
    "\n",
    "#second plot (same data):\n",
    "plot<- high_heart_rate|>\n",
    "ggplot(aes(x= target, y= diff_thalach, color= target))+\n",
    "geom_point()+\n",
    "labs(x= \"Heart Disease\", y= \"Difference in normal heart rate\", colour= \"Diagnosed with Heart Disease\" )+\n",
    "ggtitle(\"Heart Disease in relation to Maximum Heart Rate\")\n",
    "plot\n",
    "\n",
    "#We added both graphs because we wanted feedback on which graph visualizes this data better\n"
   ]
  },
  {
   "cell_type": "markdown",
   "id": "9a69c9df-eb06-415e-af01-b3ca2f498a23",
   "metadata": {},
   "source": [
    "Both graphs show that patients with a negative difference between their hypothesized \"normal\" max heart rate and their actual recorded max heart rate (ie, recorded max heart rate is over the normal limit), tend to be diagnosed with heart disease (1). In the first graph in particular, a greater proportion of people with a max heart rate over the normal limit have been diagnosed with heart disease, as compared to the patients without elevated max heart rates."
   ]
  },
  {
   "cell_type": "markdown",
   "id": "bbc4bba3-8568-401d-aa55-0223961f5988",
   "metadata": {},
   "source": [
    "Methods:\n",
    "We will select for the age, trestbps (resting blood pressure), chol (cholesterol), thalach (maximum heart rate), and target (diagnosed heart disease or not) columns. We will do a K-nearest neighbours classification on the heart disease dataset, using the target column as our class label, and the other 4 columns as our predictors. We will test for which K to use to generate the highest accuracy. Then we will show the results of our prediction in a graph or a few graphs linked together. We believe that age, resting heart rate, cholesterol, and maximum heart rate are important factors in determining and predicting heart disease in an individual.\n",
    "We will create multiple scatter plots for example, plotting target (x-axis) and age (y-axis) to determine the positive or negative trends.\n"
   ]
  },
  {
   "cell_type": "markdown",
   "id": "50f165bf-0cfd-4764-bf88-5f66e51fcd5e",
   "metadata": {},
   "source": [
    "Expected outcomes and significance:\n",
    "We expect that factors such as increased age, blood pressure, cholesterol and heart rates would increase the chances of heart disease, meaning that you could be more susceptible to heart disease. \n",
    "This would be a very helpful way to make quick predictions of whether certain factors increase the chances of heart disease. Of course, these predictions are not professional diagnoses; however, they can still be good baseline tests for medical professionals to use on patients.\n",
    "We can wonder what other factors and combinations of factors can increase the chances of heart disease. \n"
   ]
  }
 ],
 "metadata": {
  "kernelspec": {
   "display_name": "R",
   "language": "R",
   "name": "ir"
  },
  "language_info": {
   "codemirror_mode": "r",
   "file_extension": ".r",
   "mimetype": "text/x-r-source",
   "name": "R",
   "pygments_lexer": "r",
   "version": "4.1.3"
  }
 },
 "nbformat": 4,
 "nbformat_minor": 5
}
