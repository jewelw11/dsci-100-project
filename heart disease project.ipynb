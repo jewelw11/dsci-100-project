{
 "cells": [
  {
   "cell_type": "code",
   "execution_count": 1,
   "id": "de8a6ac8-e067-4ba6-b425-93fd7e926e03",
   "metadata": {},
   "outputs": [
    {
     "name": "stderr",
     "output_type": "stream",
     "text": [
      "── \u001b[1mAttaching packages\u001b[22m ─────────────────────────────────────── tidyverse 1.3.1 ──\n",
      "\n",
      "\u001b[32m✔\u001b[39m \u001b[34mggplot2\u001b[39m 3.3.6     \u001b[32m✔\u001b[39m \u001b[34mpurrr  \u001b[39m 0.3.4\n",
      "\u001b[32m✔\u001b[39m \u001b[34mtibble \u001b[39m 3.1.7     \u001b[32m✔\u001b[39m \u001b[34mdplyr  \u001b[39m 1.0.9\n",
      "\u001b[32m✔\u001b[39m \u001b[34mtidyr  \u001b[39m 1.2.0     \u001b[32m✔\u001b[39m \u001b[34mstringr\u001b[39m 1.4.0\n",
      "\u001b[32m✔\u001b[39m \u001b[34mreadr  \u001b[39m 2.1.2     \u001b[32m✔\u001b[39m \u001b[34mforcats\u001b[39m 0.5.1\n",
      "\n",
      "── \u001b[1mConflicts\u001b[22m ────────────────────────────────────────── tidyverse_conflicts() ──\n",
      "\u001b[31m✖\u001b[39m \u001b[34mdplyr\u001b[39m::\u001b[32mfilter()\u001b[39m masks \u001b[34mstats\u001b[39m::filter()\n",
      "\u001b[31m✖\u001b[39m \u001b[34mdplyr\u001b[39m::\u001b[32mlag()\u001b[39m    masks \u001b[34mstats\u001b[39m::lag()\n",
      "\n",
      "── \u001b[1mAttaching packages\u001b[22m ────────────────────────────────────── tidymodels 1.0.0 ──\n",
      "\n",
      "\u001b[32m✔\u001b[39m \u001b[34mbroom       \u001b[39m 1.0.0     \u001b[32m✔\u001b[39m \u001b[34mrsample     \u001b[39m 1.0.0\n",
      "\u001b[32m✔\u001b[39m \u001b[34mdials       \u001b[39m 1.0.0     \u001b[32m✔\u001b[39m \u001b[34mtune        \u001b[39m 1.0.0\n",
      "\u001b[32m✔\u001b[39m \u001b[34minfer       \u001b[39m 1.0.2     \u001b[32m✔\u001b[39m \u001b[34mworkflows   \u001b[39m 1.0.0\n",
      "\u001b[32m✔\u001b[39m \u001b[34mmodeldata   \u001b[39m 1.0.0     \u001b[32m✔\u001b[39m \u001b[34mworkflowsets\u001b[39m 1.0.0\n",
      "\u001b[32m✔\u001b[39m \u001b[34mparsnip     \u001b[39m 1.0.0     \u001b[32m✔\u001b[39m \u001b[34myardstick   \u001b[39m 1.0.0\n",
      "\u001b[32m✔\u001b[39m \u001b[34mrecipes     \u001b[39m 1.0.1     \n",
      "\n",
      "── \u001b[1mConflicts\u001b[22m ───────────────────────────────────────── tidymodels_conflicts() ──\n",
      "\u001b[31m✖\u001b[39m \u001b[34mscales\u001b[39m::\u001b[32mdiscard()\u001b[39m masks \u001b[34mpurrr\u001b[39m::discard()\n",
      "\u001b[31m✖\u001b[39m \u001b[34mdplyr\u001b[39m::\u001b[32mfilter()\u001b[39m   masks \u001b[34mstats\u001b[39m::filter()\n",
      "\u001b[31m✖\u001b[39m \u001b[34mrecipes\u001b[39m::\u001b[32mfixed()\u001b[39m  masks \u001b[34mstringr\u001b[39m::fixed()\n",
      "\u001b[31m✖\u001b[39m \u001b[34mdplyr\u001b[39m::\u001b[32mlag()\u001b[39m      masks \u001b[34mstats\u001b[39m::lag()\n",
      "\u001b[31m✖\u001b[39m \u001b[34myardstick\u001b[39m::\u001b[32mspec()\u001b[39m masks \u001b[34mreadr\u001b[39m::spec()\n",
      "\u001b[31m✖\u001b[39m \u001b[34mrecipes\u001b[39m::\u001b[32mstep()\u001b[39m   masks \u001b[34mstats\u001b[39m::step()\n",
      "\u001b[34m•\u001b[39m Learn how to get started at \u001b[32mhttps://www.tidymodels.org/start/\u001b[39m\n",
      "\n"
     ]
    }
   ],
   "source": [
    "#load these before doing anything else\n",
    "library(tidyverse)\n",
    "library(repr)\n",
    "library(tidymodels)\n",
    "options(repr.matrix.max.rows = 6)\n"
   ]
  },
  {
   "cell_type": "markdown",
   "id": "3d0a51f8-87c6-44f8-8b34-ca83478fcbb5",
   "metadata": {},
   "source": [
    "## Title: Clinical Determinants of Heart Disease ##\n",
    "\n",
    "### Introduction:\n",
    "We are using the Heart Disease Dataset from Kaggle (link: https://www.kaggle.com/datasets/ineubytes/heart-disease-dataset)\n",
    "The data set contains 14 columns, which include information of the patients’ age, sex, chest pain, cholesterol levels, and other clinical factors. The last column, target, indicated by values 0, and 1, represents whether the patient has heart defects (0 = does not have heart disease; 1 = have heart disease). The dataset seems to already be in a tidy format.\n",
    "\n",
    "Research question: We are aiming to predict whether an individual has heart disease (ie. the target value) using possibly 4 or less predictors including, age, serum cholesterol in mg/dl(chol), maximum heart rate achieved(thalach), resting blood pressure (in mm Hg on admission to the hospital)(trestbps). \n",
    "\n",
    "We chose these four predicators because they seem clinically related to the risk of heart disease. Clinical data identifies cholesterol at and above 240 mg/dl to be high. Systolic blood pressure over 140 mmHg and/or diastolic blood pressure over 90 mmHg are considered high blood pressure. It is considered critical if one’s maximum heart rate exceed their age subtracted by 200. These factors have all be proven to increase the risk of heart disease in patients. We are analyzing our data with the help of these clinical standards. \n"
   ]
  },
  {
   "cell_type": "markdown",
   "id": "2c72f8de-22c4-4478-b856-009260fb4d38",
   "metadata": {},
   "source": [
    "## Preliminary exploratory data analysis ##"
   ]
  },
  {
   "cell_type": "markdown",
   "id": "15c6bc82-efb3-4177-98d6-af37bd3990db",
   "metadata": {},
   "source": [
    "Reading in our dataset and selecting for the columns we are going to use"
   ]
  },
  {
   "cell_type": "code",
   "execution_count": 3,
   "id": "fda615ac-db78-4b51-bd66-a46f4353a4f8",
   "metadata": {},
   "outputs": [
    {
     "name": "stderr",
     "output_type": "stream",
     "text": [
      "\u001b[1mRows: \u001b[22m\u001b[34m1025\u001b[39m \u001b[1mColumns: \u001b[22m\u001b[34m14\u001b[39m\n",
      "\u001b[36m──\u001b[39m \u001b[1mColumn specification\u001b[22m \u001b[36m────────────────────────────────────────────────────────\u001b[39m\n",
      "\u001b[1mDelimiter:\u001b[22m \",\"\n",
      "\u001b[32mdbl\u001b[39m (14): age, sex, cp, trestbps, chol, fbs, restecg, thalach, exang, oldpea...\n",
      "\n",
      "\u001b[36mℹ\u001b[39m Use `spec()` to retrieve the full column specification for this data.\n",
      "\u001b[36mℹ\u001b[39m Specify the column types or set `show_col_types = FALSE` to quiet this message.\n"
     ]
    }
   ],
   "source": [
    "set.seed(123)\n",
    "heart_data<-read_csv(\"https://raw.githubusercontent.com/jewelw11/dsci-100-project/main/heart%20(4).csv\")\n",
    "\n",
    "heart_data_1<- heart_data|>\n",
    "select(age, trestbps, chol, thalach, target) |>\n",
    "mutate(target=as_factor(target))\n",
    "\n"
   ]
  },
  {
   "cell_type": "markdown",
   "id": "c8b7dec8-aa78-4beb-bc0d-33f856e7fca6",
   "metadata": {},
   "source": [
    "### Data Wrangling ###\n",
    "The data set we are working with is considered tidy as it fullfills the three rules of a tidy data set. We splitted the data set into 75% training set and 25% testing sets. The below table shows the training set after we have selected the target column (what we are trying to predict) and coloumns we are considering to use as our predictos. "
   ]
  },
  {
   "cell_type": "code",
   "execution_count": 4,
   "id": "1816ff98-5828-4ea4-9ef8-751b294ae1d8",
   "metadata": {},
   "outputs": [
    {
     "data": {
      "text/html": [
       "<table class=\"dataframe\">\n",
       "<caption>A tibble: 768 × 5</caption>\n",
       "<thead>\n",
       "\t<tr><th scope=col>age</th><th scope=col>trestbps</th><th scope=col>chol</th><th scope=col>thalach</th><th scope=col>target</th></tr>\n",
       "\t<tr><th scope=col>&lt;dbl&gt;</th><th scope=col>&lt;dbl&gt;</th><th scope=col>&lt;dbl&gt;</th><th scope=col>&lt;dbl&gt;</th><th scope=col>&lt;fct&gt;</th></tr>\n",
       "</thead>\n",
       "<tbody>\n",
       "\t<tr><td>53</td><td>140</td><td>203</td><td>155</td><td>0</td></tr>\n",
       "\t<tr><td>70</td><td>145</td><td>174</td><td>125</td><td>0</td></tr>\n",
       "\t<tr><td>61</td><td>148</td><td>203</td><td>161</td><td>0</td></tr>\n",
       "\t<tr><td>⋮</td><td>⋮</td><td>⋮</td><td>⋮</td><td>⋮</td></tr>\n",
       "\t<tr><td>47</td><td>112</td><td>204</td><td>143</td><td>1</td></tr>\n",
       "\t<tr><td>59</td><td>140</td><td>221</td><td>164</td><td>1</td></tr>\n",
       "\t<tr><td>50</td><td>110</td><td>254</td><td>159</td><td>1</td></tr>\n",
       "</tbody>\n",
       "</table>\n"
      ],
      "text/latex": [
       "A tibble: 768 × 5\n",
       "\\begin{tabular}{lllll}\n",
       " age & trestbps & chol & thalach & target\\\\\n",
       " <dbl> & <dbl> & <dbl> & <dbl> & <fct>\\\\\n",
       "\\hline\n",
       "\t 53 & 140 & 203 & 155 & 0\\\\\n",
       "\t 70 & 145 & 174 & 125 & 0\\\\\n",
       "\t 61 & 148 & 203 & 161 & 0\\\\\n",
       "\t ⋮ & ⋮ & ⋮ & ⋮ & ⋮\\\\\n",
       "\t 47 & 112 & 204 & 143 & 1\\\\\n",
       "\t 59 & 140 & 221 & 164 & 1\\\\\n",
       "\t 50 & 110 & 254 & 159 & 1\\\\\n",
       "\\end{tabular}\n"
      ],
      "text/markdown": [
       "\n",
       "A tibble: 768 × 5\n",
       "\n",
       "| age &lt;dbl&gt; | trestbps &lt;dbl&gt; | chol &lt;dbl&gt; | thalach &lt;dbl&gt; | target &lt;fct&gt; |\n",
       "|---|---|---|---|---|\n",
       "| 53 | 140 | 203 | 155 | 0 |\n",
       "| 70 | 145 | 174 | 125 | 0 |\n",
       "| 61 | 148 | 203 | 161 | 0 |\n",
       "| ⋮ | ⋮ | ⋮ | ⋮ | ⋮ |\n",
       "| 47 | 112 | 204 | 143 | 1 |\n",
       "| 59 | 140 | 221 | 164 | 1 |\n",
       "| 50 | 110 | 254 | 159 | 1 |\n",
       "\n"
      ],
      "text/plain": [
       "    age trestbps chol thalach target\n",
       "1   53  140      203  155     0     \n",
       "2   70  145      174  125     0     \n",
       "3   61  148      203  161     0     \n",
       "⋮   ⋮   ⋮        ⋮    ⋮       ⋮     \n",
       "766 47  112      204  143     1     \n",
       "767 59  140      221  164     1     \n",
       "768 50  110      254  159     1     "
      ]
     },
     "metadata": {},
     "output_type": "display_data"
    }
   ],
   "source": [
    "heart_split <- initial_split(heart_data_1, prop = 0.75, strata = target)\n",
    "heart_training<-training(heart_split)\n",
    "heart_testing<- testing(heart_split)\n",
    "heart_training"
   ]
  },
  {
   "cell_type": "markdown",
   "id": "db6ac04e-4402-4bd8-a27a-e7b7f29292e7",
   "metadata": {},
   "source": [
    "### Exploratory Data Analyses ### "
   ]
  },
  {
   "cell_type": "markdown",
   "id": "efc59441-a16e-4f46-ab95-c2dc63804b12",
   "metadata": {},
   "source": [
    "#### summary tables ####\n",
    "We produced a table of the mean values of all columns. We then separated the dataset into two groups, one will only individuals with heart defects and the other one without. We took the mean of each column again and were able to compare mean values between the two groups."
   ]
  },
  {
   "cell_type": "code",
   "execution_count": 35,
   "id": "92a3ccc4-d725-4c0d-bce4-30ed19f58da4",
   "metadata": {},
   "outputs": [
    {
     "data": {
      "text/html": [
       "<table class=\"dataframe\">\n",
       "<caption>A tibble: 1 × 14</caption>\n",
       "<thead>\n",
       "\t<tr><th scope=col>age</th><th scope=col>sex</th><th scope=col>cp</th><th scope=col>trestbps</th><th scope=col>chol</th><th scope=col>fbs</th><th scope=col>restecg</th><th scope=col>thalach</th><th scope=col>exang</th><th scope=col>oldpeak</th><th scope=col>slope</th><th scope=col>ca</th><th scope=col>thal</th><th scope=col>target</th></tr>\n",
       "\t<tr><th scope=col>&lt;dbl&gt;</th><th scope=col>&lt;dbl&gt;</th><th scope=col>&lt;dbl&gt;</th><th scope=col>&lt;dbl&gt;</th><th scope=col>&lt;dbl&gt;</th><th scope=col>&lt;dbl&gt;</th><th scope=col>&lt;dbl&gt;</th><th scope=col>&lt;dbl&gt;</th><th scope=col>&lt;dbl&gt;</th><th scope=col>&lt;dbl&gt;</th><th scope=col>&lt;dbl&gt;</th><th scope=col>&lt;dbl&gt;</th><th scope=col>&lt;dbl&gt;</th><th scope=col>&lt;dbl&gt;</th></tr>\n",
       "</thead>\n",
       "<tbody>\n",
       "\t<tr><td>54.43415</td><td>0.6956098</td><td>0.942439</td><td>131.6117</td><td>246</td><td>0.1492683</td><td>0.5297561</td><td>149.1141</td><td>0.3365854</td><td>1.071512</td><td>1.385366</td><td>0.7541463</td><td>2.323902</td><td>0.5131707</td></tr>\n",
       "</tbody>\n",
       "</table>\n"
      ],
      "text/latex": [
       "A tibble: 1 × 14\n",
       "\\begin{tabular}{llllllllllllll}\n",
       " age & sex & cp & trestbps & chol & fbs & restecg & thalach & exang & oldpeak & slope & ca & thal & target\\\\\n",
       " <dbl> & <dbl> & <dbl> & <dbl> & <dbl> & <dbl> & <dbl> & <dbl> & <dbl> & <dbl> & <dbl> & <dbl> & <dbl> & <dbl>\\\\\n",
       "\\hline\n",
       "\t 54.43415 & 0.6956098 & 0.942439 & 131.6117 & 246 & 0.1492683 & 0.5297561 & 149.1141 & 0.3365854 & 1.071512 & 1.385366 & 0.7541463 & 2.323902 & 0.5131707\\\\\n",
       "\\end{tabular}\n"
      ],
      "text/markdown": [
       "\n",
       "A tibble: 1 × 14\n",
       "\n",
       "| age &lt;dbl&gt; | sex &lt;dbl&gt; | cp &lt;dbl&gt; | trestbps &lt;dbl&gt; | chol &lt;dbl&gt; | fbs &lt;dbl&gt; | restecg &lt;dbl&gt; | thalach &lt;dbl&gt; | exang &lt;dbl&gt; | oldpeak &lt;dbl&gt; | slope &lt;dbl&gt; | ca &lt;dbl&gt; | thal &lt;dbl&gt; | target &lt;dbl&gt; |\n",
       "|---|---|---|---|---|---|---|---|---|---|---|---|---|---|\n",
       "| 54.43415 | 0.6956098 | 0.942439 | 131.6117 | 246 | 0.1492683 | 0.5297561 | 149.1141 | 0.3365854 | 1.071512 | 1.385366 | 0.7541463 | 2.323902 | 0.5131707 |\n",
       "\n"
      ],
      "text/plain": [
       "  age      sex       cp       trestbps chol fbs       restecg   thalach \n",
       "1 54.43415 0.6956098 0.942439 131.6117 246  0.1492683 0.5297561 149.1141\n",
       "  exang     oldpeak  slope    ca        thal     target   \n",
       "1 0.3365854 1.071512 1.385366 0.7541463 2.323902 0.5131707"
      ]
     },
     "metadata": {},
     "output_type": "display_data"
    }
   ],
   "source": [
    "mean_data <- heart_data|>\n",
    "    map_df(mean, na.rm=TRUE)\n",
    "mean_data "
   ]
  },
  {
   "cell_type": "code",
   "execution_count": 36,
   "id": "49a7a54f-97c3-475c-bea6-d20b1234d7b6",
   "metadata": {},
   "outputs": [
    {
     "data": {
      "text/html": [
       "<table class=\"dataframe\">\n",
       "<caption>A tibble: 1 × 14</caption>\n",
       "<thead>\n",
       "\t<tr><th scope=col>age</th><th scope=col>sex</th><th scope=col>cp</th><th scope=col>trestbps</th><th scope=col>chol</th><th scope=col>fbs</th><th scope=col>restecg</th><th scope=col>thalach</th><th scope=col>exang</th><th scope=col>oldpeak</th><th scope=col>slope</th><th scope=col>ca</th><th scope=col>thal</th><th scope=col>target</th></tr>\n",
       "\t<tr><th scope=col>&lt;dbl&gt;</th><th scope=col>&lt;dbl&gt;</th><th scope=col>&lt;dbl&gt;</th><th scope=col>&lt;dbl&gt;</th><th scope=col>&lt;dbl&gt;</th><th scope=col>&lt;dbl&gt;</th><th scope=col>&lt;dbl&gt;</th><th scope=col>&lt;dbl&gt;</th><th scope=col>&lt;dbl&gt;</th><th scope=col>&lt;dbl&gt;</th><th scope=col>&lt;dbl&gt;</th><th scope=col>&lt;dbl&gt;</th><th scope=col>&lt;dbl&gt;</th><th scope=col>&lt;dbl&gt;</th></tr>\n",
       "</thead>\n",
       "<tbody>\n",
       "\t<tr><td>52.40875</td><td>0.5703422</td><td>1.378327</td><td>129.2452</td><td>240.9791</td><td>0.134981</td><td>0.5988593</td><td>158.5856</td><td>0.134981</td><td>0.569962</td><td>1.593156</td><td>0.3707224</td><td>2.119772</td><td>1</td></tr>\n",
       "</tbody>\n",
       "</table>\n"
      ],
      "text/latex": [
       "A tibble: 1 × 14\n",
       "\\begin{tabular}{llllllllllllll}\n",
       " age & sex & cp & trestbps & chol & fbs & restecg & thalach & exang & oldpeak & slope & ca & thal & target\\\\\n",
       " <dbl> & <dbl> & <dbl> & <dbl> & <dbl> & <dbl> & <dbl> & <dbl> & <dbl> & <dbl> & <dbl> & <dbl> & <dbl> & <dbl>\\\\\n",
       "\\hline\n",
       "\t 52.40875 & 0.5703422 & 1.378327 & 129.2452 & 240.9791 & 0.134981 & 0.5988593 & 158.5856 & 0.134981 & 0.569962 & 1.593156 & 0.3707224 & 2.119772 & 1\\\\\n",
       "\\end{tabular}\n"
      ],
      "text/markdown": [
       "\n",
       "A tibble: 1 × 14\n",
       "\n",
       "| age &lt;dbl&gt; | sex &lt;dbl&gt; | cp &lt;dbl&gt; | trestbps &lt;dbl&gt; | chol &lt;dbl&gt; | fbs &lt;dbl&gt; | restecg &lt;dbl&gt; | thalach &lt;dbl&gt; | exang &lt;dbl&gt; | oldpeak &lt;dbl&gt; | slope &lt;dbl&gt; | ca &lt;dbl&gt; | thal &lt;dbl&gt; | target &lt;dbl&gt; |\n",
       "|---|---|---|---|---|---|---|---|---|---|---|---|---|---|\n",
       "| 52.40875 | 0.5703422 | 1.378327 | 129.2452 | 240.9791 | 0.134981 | 0.5988593 | 158.5856 | 0.134981 | 0.569962 | 1.593156 | 0.3707224 | 2.119772 | 1 |\n",
       "\n"
      ],
      "text/plain": [
       "  age      sex       cp       trestbps chol     fbs      restecg   thalach \n",
       "1 52.40875 0.5703422 1.378327 129.2452 240.9791 0.134981 0.5988593 158.5856\n",
       "  exang    oldpeak  slope    ca        thal     target\n",
       "1 0.134981 0.569962 1.593156 0.3707224 2.119772 1     "
      ]
     },
     "metadata": {},
     "output_type": "display_data"
    },
    {
     "data": {
      "text/html": [
       "<table class=\"dataframe\">\n",
       "<caption>A tibble: 1 × 14</caption>\n",
       "<thead>\n",
       "\t<tr><th scope=col>age</th><th scope=col>sex</th><th scope=col>cp</th><th scope=col>trestbps</th><th scope=col>chol</th><th scope=col>fbs</th><th scope=col>restecg</th><th scope=col>thalach</th><th scope=col>exang</th><th scope=col>oldpeak</th><th scope=col>slope</th><th scope=col>ca</th><th scope=col>thal</th><th scope=col>target</th></tr>\n",
       "\t<tr><th scope=col>&lt;dbl&gt;</th><th scope=col>&lt;dbl&gt;</th><th scope=col>&lt;dbl&gt;</th><th scope=col>&lt;dbl&gt;</th><th scope=col>&lt;dbl&gt;</th><th scope=col>&lt;dbl&gt;</th><th scope=col>&lt;dbl&gt;</th><th scope=col>&lt;dbl&gt;</th><th scope=col>&lt;dbl&gt;</th><th scope=col>&lt;dbl&gt;</th><th scope=col>&lt;dbl&gt;</th><th scope=col>&lt;dbl&gt;</th><th scope=col>&lt;dbl&gt;</th><th scope=col>&lt;dbl&gt;</th></tr>\n",
       "</thead>\n",
       "<tbody>\n",
       "\t<tr><td>56.56914</td><td>0.8276553</td><td>0.4829659</td><td>134.1062</td><td>251.2926</td><td>0.1643287</td><td>0.4569138</td><td>139.1303</td><td>0.5490982</td><td>1.6002</td><td>1.166333</td><td>1.158317</td><td>2.539078</td><td>0</td></tr>\n",
       "</tbody>\n",
       "</table>\n"
      ],
      "text/latex": [
       "A tibble: 1 × 14\n",
       "\\begin{tabular}{llllllllllllll}\n",
       " age & sex & cp & trestbps & chol & fbs & restecg & thalach & exang & oldpeak & slope & ca & thal & target\\\\\n",
       " <dbl> & <dbl> & <dbl> & <dbl> & <dbl> & <dbl> & <dbl> & <dbl> & <dbl> & <dbl> & <dbl> & <dbl> & <dbl> & <dbl>\\\\\n",
       "\\hline\n",
       "\t 56.56914 & 0.8276553 & 0.4829659 & 134.1062 & 251.2926 & 0.1643287 & 0.4569138 & 139.1303 & 0.5490982 & 1.6002 & 1.166333 & 1.158317 & 2.539078 & 0\\\\\n",
       "\\end{tabular}\n"
      ],
      "text/markdown": [
       "\n",
       "A tibble: 1 × 14\n",
       "\n",
       "| age &lt;dbl&gt; | sex &lt;dbl&gt; | cp &lt;dbl&gt; | trestbps &lt;dbl&gt; | chol &lt;dbl&gt; | fbs &lt;dbl&gt; | restecg &lt;dbl&gt; | thalach &lt;dbl&gt; | exang &lt;dbl&gt; | oldpeak &lt;dbl&gt; | slope &lt;dbl&gt; | ca &lt;dbl&gt; | thal &lt;dbl&gt; | target &lt;dbl&gt; |\n",
       "|---|---|---|---|---|---|---|---|---|---|---|---|---|---|\n",
       "| 56.56914 | 0.8276553 | 0.4829659 | 134.1062 | 251.2926 | 0.1643287 | 0.4569138 | 139.1303 | 0.5490982 | 1.6002 | 1.166333 | 1.158317 | 2.539078 | 0 |\n",
       "\n"
      ],
      "text/plain": [
       "  age      sex       cp        trestbps chol     fbs       restecg   thalach \n",
       "1 56.56914 0.8276553 0.4829659 134.1062 251.2926 0.1643287 0.4569138 139.1303\n",
       "  exang     oldpeak slope    ca       thal     target\n",
       "1 0.5490982 1.6002  1.166333 1.158317 2.539078 0     "
      ]
     },
     "metadata": {},
     "output_type": "display_data"
    }
   ],
   "source": [
    "mean_has_heart_disease <- heart_data|>\n",
    "filter(target == 1)|> \n",
    "map_df(mean, na.rm = TRUE)\n",
    "\n",
    "\n",
    "mean_no_heart_disease <- heart_data|>\n",
    "filter(target == 0)|> \n",
    "map_df(mean, na.rm = TRUE)\n",
    "\n",
    "\n",
    "mean_has_heart_disease\n",
    "mean_no_heart_disease\n"
   ]
  },
  {
   "cell_type": "markdown",
   "id": "ec2ad26a-49e2-4000-8307-4f14ee002845",
   "metadata": {},
   "source": [
    "Using the Cholesterol (chol column), we output the below table to determine whether there is a higher number of individuals who have high cholesterol levels in patients who have heart disease than those who do not.\n",
    "\n",
    "Note: \n",
    "target value: 0 = not diagnosed with heart disease, 1 = diagnosed with heart disease\n",
    "\n",
    "determination of high cholesterol: High cholesterol is clinically diagnosed when a patient's cholesterol is equal to or over 240 mg/dl"
   ]
  },
  {
   "cell_type": "code",
   "execution_count": 37,
   "id": "7220e7eb-afce-4963-b778-fc5a03f0bac2",
   "metadata": {},
   "outputs": [
    {
     "data": {
      "text/html": [
       "<table class=\"dataframe\">\n",
       "<caption>A tibble: 2 × 2</caption>\n",
       "<thead>\n",
       "\t<tr><th scope=col>target</th><th scope=col>count</th></tr>\n",
       "\t<tr><th scope=col>&lt;fct&gt;</th><th scope=col>&lt;int&gt;</th></tr>\n",
       "</thead>\n",
       "<tbody>\n",
       "\t<tr><td>0</td><td>214</td></tr>\n",
       "\t<tr><td>1</td><td>187</td></tr>\n",
       "</tbody>\n",
       "</table>\n"
      ],
      "text/latex": [
       "A tibble: 2 × 2\n",
       "\\begin{tabular}{ll}\n",
       " target & count\\\\\n",
       " <fct> & <int>\\\\\n",
       "\\hline\n",
       "\t 0 & 214\\\\\n",
       "\t 1 & 187\\\\\n",
       "\\end{tabular}\n"
      ],
      "text/markdown": [
       "\n",
       "A tibble: 2 × 2\n",
       "\n",
       "| target &lt;fct&gt; | count &lt;int&gt; |\n",
       "|---|---|\n",
       "| 0 | 214 |\n",
       "| 1 | 187 |\n",
       "\n"
      ],
      "text/plain": [
       "  target count\n",
       "1 0      214  \n",
       "2 1      187  "
      ]
     },
     "metadata": {},
     "output_type": "display_data"
    }
   ],
   "source": [
    "high_chol <- heart_training |>\n",
    "select(chol, target)|>\n",
    "filter(chol >= 240)|>\n",
    "group_by(target)|>\n",
    "summarize(count=n())\n",
    "\n",
    "high_chol"
   ]
  },
  {
   "cell_type": "markdown",
   "id": "245b4c46-9b8a-4471-8efa-49edb752eea2",
   "metadata": {},
   "source": [
    "Normal max heart rate is calculated using a fixed equation: 220 - age.\n",
    "The below table compares the calculated (normal) max heart rate with the measured heart rate(thalach column).\n",
    "We can quantify whether heart rate is critically high by comparing these two rows. If the difference between the 2 rows is a negative value then max heart rate is considered high and potentially dangerous."
   ]
  },
  {
   "cell_type": "code",
   "execution_count": 38,
   "id": "d61aa1e2-d23d-4d91-86cf-30ee08d90f07",
   "metadata": {},
   "outputs": [
    {
     "data": {
      "text/html": [
       "<table class=\"dataframe\">\n",
       "<caption>A tibble: 768 × 8</caption>\n",
       "<thead>\n",
       "\t<tr><th scope=col>age</th><th scope=col>trestbps</th><th scope=col>chol</th><th scope=col>thalach</th><th scope=col>target</th><th scope=col>normal_thalach</th><th scope=col>diff_thalach</th><th scope=col>diff_thalach_2</th></tr>\n",
       "\t<tr><th scope=col>&lt;dbl&gt;</th><th scope=col>&lt;dbl&gt;</th><th scope=col>&lt;dbl&gt;</th><th scope=col>&lt;dbl&gt;</th><th scope=col>&lt;fct&gt;</th><th scope=col>&lt;dbl&gt;</th><th scope=col>&lt;dbl&gt;</th><th scope=col>&lt;chr&gt;</th></tr>\n",
       "</thead>\n",
       "<tbody>\n",
       "\t<tr><td>53</td><td>140</td><td>203</td><td>155</td><td>0</td><td>167</td><td>12</td><td>no </td></tr>\n",
       "\t<tr><td>70</td><td>145</td><td>174</td><td>125</td><td>0</td><td>150</td><td>25</td><td>no </td></tr>\n",
       "\t<tr><td>61</td><td>148</td><td>203</td><td>161</td><td>0</td><td>159</td><td>-2</td><td>yes</td></tr>\n",
       "\t<tr><td>⋮</td><td>⋮</td><td>⋮</td><td>⋮</td><td>⋮</td><td>⋮</td><td>⋮</td><td>⋮</td></tr>\n",
       "\t<tr><td>47</td><td>112</td><td>204</td><td>143</td><td>1</td><td>173</td><td>30</td><td>no </td></tr>\n",
       "\t<tr><td>59</td><td>140</td><td>221</td><td>164</td><td>1</td><td>161</td><td>-3</td><td>yes</td></tr>\n",
       "\t<tr><td>50</td><td>110</td><td>254</td><td>159</td><td>1</td><td>170</td><td>11</td><td>no </td></tr>\n",
       "</tbody>\n",
       "</table>\n"
      ],
      "text/latex": [
       "A tibble: 768 × 8\n",
       "\\begin{tabular}{llllllll}\n",
       " age & trestbps & chol & thalach & target & normal\\_thalach & diff\\_thalach & diff\\_thalach\\_2\\\\\n",
       " <dbl> & <dbl> & <dbl> & <dbl> & <fct> & <dbl> & <dbl> & <chr>\\\\\n",
       "\\hline\n",
       "\t 53 & 140 & 203 & 155 & 0 & 167 & 12 & no \\\\\n",
       "\t 70 & 145 & 174 & 125 & 0 & 150 & 25 & no \\\\\n",
       "\t 61 & 148 & 203 & 161 & 0 & 159 & -2 & yes\\\\\n",
       "\t ⋮ & ⋮ & ⋮ & ⋮ & ⋮ & ⋮ & ⋮ & ⋮\\\\\n",
       "\t 47 & 112 & 204 & 143 & 1 & 173 & 30 & no \\\\\n",
       "\t 59 & 140 & 221 & 164 & 1 & 161 & -3 & yes\\\\\n",
       "\t 50 & 110 & 254 & 159 & 1 & 170 & 11 & no \\\\\n",
       "\\end{tabular}\n"
      ],
      "text/markdown": [
       "\n",
       "A tibble: 768 × 8\n",
       "\n",
       "| age &lt;dbl&gt; | trestbps &lt;dbl&gt; | chol &lt;dbl&gt; | thalach &lt;dbl&gt; | target &lt;fct&gt; | normal_thalach &lt;dbl&gt; | diff_thalach &lt;dbl&gt; | diff_thalach_2 &lt;chr&gt; |\n",
       "|---|---|---|---|---|---|---|---|\n",
       "| 53 | 140 | 203 | 155 | 0 | 167 | 12 | no  |\n",
       "| 70 | 145 | 174 | 125 | 0 | 150 | 25 | no  |\n",
       "| 61 | 148 | 203 | 161 | 0 | 159 | -2 | yes |\n",
       "| ⋮ | ⋮ | ⋮ | ⋮ | ⋮ | ⋮ | ⋮ | ⋮ |\n",
       "| 47 | 112 | 204 | 143 | 1 | 173 | 30 | no  |\n",
       "| 59 | 140 | 221 | 164 | 1 | 161 | -3 | yes |\n",
       "| 50 | 110 | 254 | 159 | 1 | 170 | 11 | no  |\n",
       "\n"
      ],
      "text/plain": [
       "    age trestbps chol thalach target normal_thalach diff_thalach diff_thalach_2\n",
       "1   53  140      203  155     0      167            12           no            \n",
       "2   70  145      174  125     0      150            25           no            \n",
       "3   61  148      203  161     0      159            -2           yes           \n",
       "⋮   ⋮   ⋮        ⋮    ⋮       ⋮      ⋮              ⋮            ⋮             \n",
       "766 47  112      204  143     1      173            30           no            \n",
       "767 59  140      221  164     1      161            -3           yes           \n",
       "768 50  110      254  159     1      170            11           no            "
      ]
     },
     "metadata": {},
     "output_type": "display_data"
    }
   ],
   "source": [
    "normal_max_heart_rate <- heart_training|>\n",
    "mutate(normal_thalach = 220 - age)\n",
    "\n",
    "high_heart_rate <- normal_max_heart_rate|>\n",
    "mutate(diff_thalach= normal_thalach - thalach)|>\n",
    "mutate(diff_thalach_2 = ifelse(diff_thalach >= 0, \"no\", \"yes\"))\n",
    "high_heart_rate"
   ]
  },
  {
   "cell_type": "markdown",
   "id": "7805ec5f-e10d-4cc8-95a4-60e18a529753",
   "metadata": {},
   "source": [
    "#### Visualization for Maximum Heart Rate (thalach column) ####"
   ]
  },
  {
   "cell_type": "markdown",
   "id": "ff8f1156-53c2-41b3-b6db-c629d5d1aaf8",
   "metadata": {},
   "source": [
    "The goal of the bar graph is to determine the difference in proportion of patients who have a high max heart rate within the two groups (have and does not have heart disease). We want to plot thalach against target. We editted the data in the table above to make thalach a categorical data (is or is not considered high) and used it to create this bar graph."
   ]
  },
  {
   "cell_type": "code",
   "execution_count": 44,
   "id": "52ff22d1-b7b7-450d-9f9b-e564cab30abc",
   "metadata": {
    "tags": []
   },
   "outputs": [
    {
     "data": {
      "image/png": "[encoded data removed]",
      "text/plain": [
       "plot without title"
      ]
     },
     "metadata": {
      "image/png": {
       "height": 420,
       "width": 420
      }
     },
     "output_type": "display_data"
    },
    {
     "data": {
      "image/png": "[encoded data removed]",
      "text/plain": [
       "plot without title"
      ]
     },
     "metadata": {
      "image/png": {
       "height": 420,
       "width": 420
      }
     },
     "output_type": "display_data"
    }
   ],
   "source": [
    "high_heart_plot <- high_heart_rate |>\n",
    "ggplot(aes(x = diff_thalach_2, fill = target)) + \n",
    "geom_bar(stat = \"count\") + \n",
    "labs(x = \"Whether patients have elevated max heart rate\", y = \"Count\", fill= \"Diagnosed with Heart Disease\")+\n",
    "ggtitle(\" Table 1.0: Heart Disease in relation to Maximum Heart Rate\") \n",
    "high_heart_plot\n",
    "\n",
    "#second plot (same data):\n",
    "plot<- high_heart_rate|>\n",
    "ggplot(aes(x= target, y= diff_thalach, color= target))+\n",
    "geom_point()+\n",
    "labs(x= \"Heart Disease\", y= \"Difference in normal heart rate\", colour= \"Diagnosed with Heart Disease\" )+\n",
    "ggtitle(\"Table 1.1: Heart Disease in relation to Maximum Heart Rate\")\n",
    "plot\n"
   ]
  },
  {
   "cell_type": "markdown",
   "id": "a08ac5a5-4f5a-49ad-b447-4b7d74e93663",
   "metadata": {},
   "source": [
    "Both graphs show that patients with a negative difference between their hypothesized \"normal\" max heart rate and their actual recorded max heart rate (ie, recorded max heart rate is over the normal limit), tend to be diagnosed with heart disease (1). In the first graph in particular, a greater proportion of people with a max heart rate over the normal limit have been diagnosed with heart disease, as compared to the patients without elevated max heart rates."
   ]
  },
  {
   "cell_type": "markdown",
   "id": "b4a2ee8b-aae7-4dca-aad9-000163dff5c9",
   "metadata": {},
   "source": [
    "#### Predicator Visualizations ####\n",
    "We plotted each possible predictors against target on a boxplot to find the best predictors to use."
   ]
  },
  {
   "cell_type": "code",
   "execution_count": 47,
   "id": "0d155cd3-713e-4570-808c-6a1b7172de98",
   "metadata": {},
   "outputs": [
    {
     "data": {
      "image/png": "[encoded data removed]",
      "text/plain": [
       "plot without title"
      ]
     },
     "metadata": {
      "image/png": {
       "height": 420,
       "width": 420
      }
     },
     "output_type": "display_data"
    }
   ],
   "source": [
    "box_plot_age<- heart_training|>\n",
    "ggplot(aes(x=age, y=target))+\n",
    "geom_boxplot()+\n",
    "labs(x=\"age\", y=\"Heart disease diagnosis (1=positive, 0=negative)\")+\n",
    "ggtitle(\"Table 2.0: Relationship Between Age and Heart Disease Diagnosis\")+\n",
    "coord_flip()\n",
    "\n",
    "\n",
    "box_plot_age\n"
   ]
  },
  {
   "cell_type": "code",
   "execution_count": 48,
   "id": "ca2a2f07-ad66-4cc3-ad7e-c88a66befa7c",
   "metadata": {},
   "outputs": [
    {
     "data": {
      "image/png": "[encoded data removed]",
      "text/plain": [
       "plot without title"
      ]
     },
     "metadata": {
      "image/png": {
       "height": 420,
       "width": 420
      }
     },
     "output_type": "display_data"
    }
   ],
   "source": [
    "box_plot_bp <- heart_training|>\n",
    "ggplot(aes(x=trestbps, y=target))+\n",
    "geom_boxplot()+\n",
    "labs(x=\"resting blood pressure\", y=\"Heart disease diagnosis (1=positive, 0=negative)\")+\n",
    "coord_flip()+\n",
    "ggtitle(\"Table 2.1: Relationship Between Resting Blood Pressure and Heart Disease Diagnosis\")\n",
    "box_plot_bp"
   ]
  },
  {
   "cell_type": "code",
   "execution_count": 52,
   "id": "e285378b-5422-4e16-bbce-afd7c9fe96d1",
   "metadata": {},
   "outputs": [
    {
     "data": {
      "image/png": "[encoded data removed]",
      "text/plain": [
       "plot without title"
      ]
     },
     "metadata": {
      "image/png": {
       "height": 420,
       "width": 420
      }
     },
     "output_type": "display_data"
    }
   ],
   "source": [
    "box_plot_chol<- heart_training|>\n",
    "ggplot(aes(x=chol, y=target))+\n",
    "geom_boxplot()+\n",
    "labs(x=\"cholesterol levels\", y=\"Heart disease diagnosis (1=positive, 0=negative)\")+\n",
    "coord_flip()+\n",
    "ggtitle(\" Table 2.2: Relationship Between Cholesterol Level and Heart Disease Diagnosis\")\n",
    "box_plot_chol"
   ]
  },
  {
   "cell_type": "code",
   "execution_count": 51,
   "id": "1c824e8b-239c-4dcf-bef4-89ba6ea27083",
   "metadata": {},
   "outputs": [
    {
     "data": {
      "image/png": "[encoded data removed]",
      "text/plain": [
       "plot without title"
      ]
     },
     "metadata": {
      "image/png": {
       "height": 420,
       "width": 420
      }
     },
     "output_type": "display_data"
    }
   ],
   "source": [
    "box_plot_max_heart<- heart_training|>\n",
    "ggplot(aes(x=thalach, y=target))+\n",
    "geom_boxplot()+\n",
    "labs(x=\"max heart rate\", y=\"Heart disease diagnosis (1=positive, 0=negative)\")+\n",
    "ggtitle(\"Table 2.3: Relationship Between Max Heart rate and Heart Disease Diagnosis\")+\n",
    "coord_flip()\n",
    "\n",
    "box_plot_max_heart"
   ]
  },
  {
   "cell_type": "markdown",
   "id": "0f583027-3dcd-48b1-b23c-9052017e2662",
   "metadata": {},
   "source": [
    "After plotting four boxplots with the predictors on the x-axis and whether patients have or have not been diganosed with heart disease on the y-axis, we determined that age and max heart rate had more of a significant relationship with target, as opposed to the other two predictors (resting blood pressure and cholesterol levels). We chose those predictors because of the difference of the median as well as the range of the values. We also found that the predictors resting blood pressure and cholesterol levels had more significant outliers which is why we decided not to use those plots, as it would take away from accurate outcomes. "
   ]
  },
  {
   "cell_type": "markdown",
   "id": "50f165bf-0cfd-4764-bf88-5f66e51fcd5e",
   "metadata": {},
   "source": [
    "#### Expected outcomes and significance #### \n",
    "We expect that factors such as increased age and heart rates would increase the chances of heart disease, meaning that you could be more susceptible to heart disease. \n",
    "This would be a very helpful way to make quick predictions of whether certain factors increase the chances of heart disease. Of course, these predictions are not professional diagnoses; however, they can still be good baseline tests for medical professionals to use on patients.\n",
    "We can wonder what other factors and combinations of factors can increase the chances of heart disease. \n"
   ]
  },
  {
   "cell_type": "markdown",
   "id": "968a39cb-165e-419c-b213-e1ad243ea580",
   "metadata": {
    "tags": []
   },
   "source": [
    "## Classification ##"
   ]
  },
  {
   "cell_type": "code",
   "execution_count": null,
   "id": "b8348f50-a38d-45d9-b7de-62aede05fcc8",
   "metadata": {},
   "outputs": [],
   "source": [
    "set.seed(123)\n",
    "heart_training_recipe<- recipe(target~ age, thalach, data= heart_training)|>\n",
    "step_center(all_predictors())|>\n",
    "step_scale(all_predictors())\n",
    "\n",
    "\n",
    "heart_spec<- nearest_neighbor(weight_func = \"rectangular\", neighbors= tune()) |>\n",
    "set_engine(\"kknn\") |>\n",
    "set_mode (\"classification\")\n",
    "\n",
    "\n",
    "heart_vfold <- vfold_cv(heart_training, v = 5, strata = target)\n",
    "\n",
    "\n",
    "heart_workflow <- workflow() |>\n",
    "       add_recipe(heart_training_recipe) |>\n",
    "       add_model(heart_spec) |>\n",
    "       fit(data = heart_training)\n",
    "\n",
    "gridvals <- tibble(neighbors = seq(from =1, to = 100, by =5))\n",
    "\n",
    "heart_results <- heart_workflow |>\n",
    "       tune_grid(resamples = heart_vfold, grid = gridvals) |>\n",
    "       collect_metrics()\n",
    "\n",
    "heart_results\n",
    "\n",
    "accuracy <-  heart_results |>  \n",
    "filter(.metric == \"accuracy\")\n",
    "\n",
    "\n",
    "\n"
   ]
  },
  {
   "cell_type": "code",
   "execution_count": null,
   "id": "85b97850-ecaa-4aff-a0fa-c7f3bd9fd1fa",
   "metadata": {},
   "outputs": [],
   "source": [
    "set.seed(123)\n",
    "\n",
    "options(repr.plot.width = 10, repr.plot.height = 8)\n",
    "\n",
    "cross_val_plot <- ggplot(accuracy, aes(x = neighbors, y = mean)) +\n",
    "geom_point () +\n",
    "geom_line () +\n",
    "labs(x = \"Neighbours\", y = \"Accuracy Estimate\") +\n",
    "ggtitle(\"Accuracy Estimate of K values\") +\n",
    "theme(text=element_text(size=12))+\n",
    "       scale_x_continuous(breaks = seq(0, 80, by = 10))\n",
    "\n",
    "heart_max <- accuracy |>\n",
    "filter(mean == max(mean))|>\n",
    "pull(neighbors)\n",
    "\n",
    "accuracy\n",
    "cross_val_plot\n",
    "heart_max"
   ]
  },
  {
   "cell_type": "code",
   "execution_count": null,
   "id": "8aefbabf-4d1f-4834-935d-f49941a048b9",
   "metadata": {},
   "outputs": [],
   "source": [
    "heart_spec<- nearest_neighbor(weight_func = \"rectangular\", neighbors=46) |>\n",
    "set_engine(\"kknn\")|>\n",
    "set_mode(\"classification\")\n",
    "\n",
    "\n",
    "\n",
    "knn_fit<- workflow()|>\n",
    "add_recipe(heart_training_recipe)|>\n",
    "add_model(heart_spec)|>\n",
    "fit(data=heart_training)\n",
    "\n",
    "\n",
    "heart_test_predictions<- predict(knn_fit, heart_testing)|>\n",
    "bind_cols(heart_testing)|>\n",
    "metrics(truth= target, estimate=.pred_class)|>\n",
    "filter(.metric==\"accuracy\")\n",
    "\n",
    "heart_test_predictions\n"
   ]
  },
  {
   "cell_type": "code",
   "execution_count": null,
   "id": "7949c1e9-d88a-47e8-b169-edfb2bdfb02d",
   "metadata": {},
   "outputs": [],
   "source": [
    "Methods"
   ]
  },
  {
   "cell_type": "markdown",
   "id": "44224f4a-bfa1-42a9-92cc-7937388bb77d",
   "metadata": {},
   "source": [
    "We aim to perform a K-nearest neighbours classification on the heart disease dataset, using the target column as our class label, and 2 predictors. From the above boxplot analysis, we determined the two best predictors to use are age and thalach (maximum heart rate). This was decided because the two predictors seem to have a relationship with whether or not a patient was diagnosed with heart disease. We tested for the best K to use to generate the highest accuracy using cross validation with a vfold of 5. We determined the K using both a graph of accuracy estimates and by pulling out the K straight from the metrics table. Having found the most suitable K for our model, we retrained our model using the K value and evaluated for how accurate our model is on the testing set."
   ]
  },
  {
   "cell_type": "markdown",
   "id": "09cd457e-79e0-4de7-8388-88f242197f24",
   "metadata": {},
   "source": [
    "## Results ##"
   ]
  },
  {
   "cell_type": "markdown",
   "id": "223b0eb6-14ec-41f8-90cd-ef1fba9a1ce0",
   "metadata": {},
   "source": [
    "After performing the K-Nearest Neighbors (KNN) classification analysis with a k value of 46, we obtained a classifier accuracy of 0.64. This indicates that the model correctly predicted the the presence or absence of heart disease for 64% of the instances in the testing data. While an accuracy of 0.64 indicates moderate performance, it is important to consider other evaluation metrics to gain a comprehensive understanding of the classifier's effectiveness. Due to the crucial and sensitive nature of predicting whether a patient has heart disease, a 64% accurate model is simply not up to the standards of one that would be used in a clinical setting. Given the context of heart disease prediction, it is crucial to evaluate the classifier's accuracy to a high standard. Heart disease is a serious condition, and the consequences of false positives (incorrectly predicting heart disease) or false negatives (incorrectly predicting the absence of heart disease) can have significant implications for patient health and wellbeing. To further enhance our classifiers, in order for it to be to the standards for clinical use, it would have to be improved heavily as this is a health crisis that involves the follow up of treatment plans and could affect patients lives negatively. "
   ]
  },
  {
   "cell_type": "markdown",
   "id": "89cd2ab2-ca2c-4079-a990-dc246f4443b5",
   "metadata": {},
   "source": [
    "## Discussion ##"
   ]
  },
  {
   "cell_type": "markdown",
   "id": "52895329-f7d3-4fd9-90ed-7b8159bae48b",
   "metadata": {},
   "source": [
    "After plotting four boxplots with the predictors on the x-axis and whether patients have or do not have heart disease on the y-axis, we determined that age and resting blood pressure had the most significance compared to the other two predictors (max heart rate and cholesterol levels). We chose those predictors because of the difference of the median as well as the range of the values. We also found that the predictors max heart rate and cholesterol levels had outliers which is why we decided not to use those plots (takes away from accurate outcomes). \n",
    "\n",
    "\n",
    "Although our box plot shows that ages 45-60 are more likely to have heart disease compared to ages 52-62, external research states otherwise. According to source Memorial Hermann (2023), “Your risk for heart disease increases with age.” This statement is well supported by other credible medical sources like John Hopkins and can be generally understood as factual medical knowledge. Therefore, we did not expect these findings; we were very confident that we would see a significant positive trend between age and heart disease. Perhaps this particular data set is an inaccurate depiction of the generalized factual truth. For example, the sample size of this data set is n=1000, which is an adequate number for values; however, with even more data points, we could strive for increased accuracy. If we had 10,000 data points or even more, there is a very good chance we would see significant trends between most (if not all) of our predictors and heart disease. \n",
    "\n",
    "\n",
    "These findings are crucial as they can be a very helpful way to make quick predictions of whether certain factors increase the chances of heart disease. Of course, these predictions are not professional diagnoses and the accuracy may vary; however, they can still be good baseline tests.\n",
    "\n",
    "\n",
    "These conclusions naturally lead to how the addition of other predictors can give models like ours an even more accurate outcome. We could add more than 20 predictors to maximize the number of data points that may be able to determine the seriousness of the heart disease by rating it on a scale. These specialized models could help suggest certain exercises or diet foods according to predictors like cholesterol, resting heart rate, blood pressure, glucose level and more.  \n"
   ]
  },
  {
   "cell_type": "markdown",
   "id": "f8e3e540-250b-49c7-8614-41e0c698f367",
   "metadata": {},
   "source": [
    "## References ##"
   ]
  },
  {
   "cell_type": "markdown",
   "id": "3ddcf777-d2f3-4265-8142-6380112e72d2",
   "metadata": {},
   "source": [
    "Lipid panel. JHM. (2020, December 4). https://www.hopkinsmedicine.org/health/treatment-tests-and-therapies/lipid-panel \n",
    "\n",
    "Heart disease & age. memorialhermann. (2023, April 19). https://memorialhermann.org/services/specialties/heart-and-vascular/healthy-living/education/heart-disease-and-age#:~:text=Your%20risk%20for%20heart%20disease,under%20the%20age%20of%2065. \n",
    "\n",
    "What is blood pressure and how is it measured? - informedhealth.org ... (n.d.).                  https://www.ncbi.nlm.nih.gov/books/NBK279251/ \n"
   ]
  }
 ],
 "metadata": {
  "kernelspec": {
   "display_name": "R",
   "language": "R",
   "name": "ir"
  },
  "language_info": {
   "codemirror_mode": "r",
   "file_extension": ".r",
   "mimetype": "text/x-r-source",
   "name": "R",
   "pygments_lexer": "r",
   "version": "4.1.3"
  }
 },
 "nbformat": 4,
 "nbformat_minor": 5
}
